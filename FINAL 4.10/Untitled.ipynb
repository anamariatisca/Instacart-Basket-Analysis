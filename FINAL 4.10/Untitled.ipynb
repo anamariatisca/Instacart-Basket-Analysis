{
 "cells": [
  {
   "cell_type": "markdown",
   "id": "15e2a285",
   "metadata": {},
   "source": [
    "## 4.10: Coding Etiquette & Excel Reporting "
   ]
  },
  {
   "cell_type": "markdown",
   "id": "274c44f9",
   "metadata": {},
   "source": [
    "### Part A"
   ]
  },
  {
   "cell_type": "markdown",
   "id": "8364ecd5",
   "metadata": {},
   "source": [
    "#### Importing libraries"
   ]
  },
  {
   "cell_type": "code",
   "execution_count": 1,
   "id": "5b346cf4",
   "metadata": {},
   "outputs": [],
   "source": [
    "import pandas as pd\n",
    "import numpy as np\n",
    "import os\n",
    "import matplotlib.pyplot as plt\n",
    "import seaborn as sns\n",
    "import scipy"
   ]
  },
  {
   "cell_type": "markdown",
   "id": "7a7d47fe",
   "metadata": {},
   "source": [
    "#### Importing documents "
   ]
  },
  {
   "cell_type": "code",
   "execution_count": 2,
   "id": "67a574c1",
   "metadata": {},
   "outputs": [],
   "source": [
    "# identifying path\n",
    "path = '/Users/Ana/Documents/Instacart Basket Analysis'"
   ]
  },
  {
   "cell_type": "code",
   "execution_count": 3,
   "id": "2b0c7b1d",
   "metadata": {},
   "outputs": [
    {
     "data": {
      "text/plain": [
       "'/Users/Ana/Documents/Instacart Basket Analysis'"
      ]
     },
     "execution_count": 3,
     "metadata": {},
     "output_type": "execute_result"
    }
   ],
   "source": [
    "# executing path\n",
    "path"
   ]
  },
  {
   "cell_type": "code",
   "execution_count": 4,
   "id": "592549fb",
   "metadata": {},
   "outputs": [],
   "source": [
    "# Importing dataset\n",
    "df_opa = pd.read_pickle(os.path.join(path, '02 Data', 'orders_products_customers_profiled.pkl'))"
   ]
  },
  {
   "cell_type": "code",
   "execution_count": 5,
   "id": "f2090469",
   "metadata": {},
   "outputs": [],
   "source": [
    "# Importing dataset\n",
    "df_dep = pd.read_csv(os.path.join(path, '02 Data', 'departments_wrangled.csv'))"
   ]
  },
  {
   "cell_type": "markdown",
   "id": "18ff1c77",
   "metadata": {},
   "source": [
    "02. Consider any security implications that might exist for this new data. You’ll need to address any PII data in the data before continuing your analysis.\n",
    "\n",
    "Due to PII, First_name and last_name should be dropped. Date_joined is unnecessary and should be dropped as well.\n",
    "Due to memory issues, the following command for dropping those columns will be provided: df_icba = df.drop(columns=['first_name', 'last_name', 'date_joined']) (rather than actually dropping the columns)."
   ]
  },
  {
   "cell_type": "code",
   "execution_count": null,
   "id": "2f1faeda",
   "metadata": {},
   "outputs": [],
   "source": []
  }
 ],
 "metadata": {
  "kernelspec": {
   "display_name": "Python 3 (ipykernel)",
   "language": "python",
   "name": "python3"
  },
  "language_info": {
   "codemirror_mode": {
    "name": "ipython",
    "version": 3
   },
   "file_extension": ".py",
   "mimetype": "text/x-python",
   "name": "python",
   "nbconvert_exporter": "python",
   "pygments_lexer": "ipython3",
   "version": "3.11.5"
  }
 },
 "nbformat": 4,
 "nbformat_minor": 5
}
