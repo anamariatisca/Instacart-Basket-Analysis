{
 "cells": [
  {
   "cell_type": "code",
   "execution_count": 1,
   "id": "d206ec54",
   "metadata": {},
   "outputs": [],
   "source": [
    "#importing libraries\n",
    "import pandas as pd \n",
    "import numpy as np \n",
    "import os"
   ]
  },
  {
   "cell_type": "code",
   "execution_count": 2,
   "id": "1298e7b3",
   "metadata": {},
   "outputs": [],
   "source": [
    "# identifying path\n",
    "path = '/Users/Ana/Documents/Instacart Basket Analysis'"
   ]
  },
  {
   "cell_type": "code",
   "execution_count": 3,
   "id": "b439c7ef",
   "metadata": {},
   "outputs": [
    {
     "data": {
      "text/plain": [
       "'/Users/Ana/Documents/Instacart Basket Analysis'"
      ]
     },
     "execution_count": 3,
     "metadata": {},
     "output_type": "execute_result"
    }
   ],
   "source": [
    "# executing path\n",
    "path"
   ]
  },
  {
   "cell_type": "code",
   "execution_count": 5,
   "id": "75c94777",
   "metadata": {},
   "outputs": [],
   "source": [
    "# Import the prepared data\n",
    "df_orders_products_merged_customers = pd.read_pickle(os.path.join(path, '02 Data', 'orders_products_merged_updated.pkl'))"
   ]
  },
  {
   "cell_type": "code",
   "execution_count": 6,
   "id": "e98f12b5",
   "metadata": {},
   "outputs": [],
   "source": [
    "#  create a crosstab between the “days_since_prior_order” column and the “order_number” column.\n",
    "crosstab = pd.crosstab(df_orders_products_merged_customers['days_since_prior_order'], df_orders_products_merged_customers['order_number'], dropna = False)"
   ]
  },
  {
   "cell_type": "code",
   "execution_count": 7,
   "id": "99c01205",
   "metadata": {},
   "outputs": [],
   "source": [
    "# copy the table straight to your clipboard, allowing you to then paste it into Excel for easy viewing.\n",
    "crosstab.to_clipboard()"
   ]
  },
  {
   "cell_type": "code",
   "execution_count": null,
   "id": "9ef96a53",
   "metadata": {},
   "outputs": [],
   "source": []
  }
 ],
 "metadata": {
  "kernelspec": {
   "display_name": "Python 3 (ipykernel)",
   "language": "python",
   "name": "python3"
  },
  "language_info": {
   "codemirror_mode": {
    "name": "ipython",
    "version": 3
   },
   "file_extension": ".py",
   "mimetype": "text/x-python",
   "name": "python",
   "nbconvert_exporter": "python",
   "pygments_lexer": "ipython3",
   "version": "3.11.5"
  }
 },
 "nbformat": 4,
 "nbformat_minor": 5
}
