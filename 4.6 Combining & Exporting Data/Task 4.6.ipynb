{
 "cells": [
  {
   "cell_type": "markdown",
   "id": "ad47cb02",
   "metadata": {},
   "source": [
    "# Combining and Exporting Data"
   ]
  },
  {
   "cell_type": "code",
   "execution_count": 91,
   "id": "6412c8e4",
   "metadata": {},
   "outputs": [],
   "source": [
    "#importing libraries\n",
    "import pandas as pd\n",
    "import numpy as np\n",
    "import os"
   ]
  },
  {
   "cell_type": "code",
   "execution_count": 92,
   "id": "a3423907",
   "metadata": {},
   "outputs": [],
   "source": [
    "# identifying path \n",
    "path = '/Users/Ana/Documents/Instacart Basket Analysis'"
   ]
  },
  {
   "cell_type": "code",
   "execution_count": 93,
   "id": "279b0e75",
   "metadata": {},
   "outputs": [
    {
     "data": {
      "text/plain": [
       "'/Users/Ana/Documents/Instacart Basket Analysis'"
      ]
     },
     "execution_count": 93,
     "metadata": {},
     "output_type": "execute_result"
    }
   ],
   "source": [
    "#executing path\n",
    "path"
   ]
  },
  {
   "cell_type": "markdown",
   "id": "96e1c26c",
   "metadata": {},
   "source": [
    "1. Merge prepared Instacart orders data with new orders_products_prior."
   ]
  },
  {
   "cell_type": "code",
   "execution_count": 94,
   "id": "f4bce888",
   "metadata": {},
   "outputs": [],
   "source": [
    "#importing data set\n",
    "df_ords_prior = pd.read_csv(os.path.join(path, '02 Data', 'Original Data', 'orders_products_prior.csv'), index_col = False)"
   ]
  },
  {
   "cell_type": "code",
   "execution_count": 95,
   "id": "8a15f20e",
   "metadata": {},
   "outputs": [],
   "source": [
    "#importing orders csv data\n",
    "df_ords = pd.read_csv(os.path.join(path, '02 Data', 'Original Data', 'orders.csv'), index_col = False)"
   ]
  },
  {
   "cell_type": "code",
   "execution_count": 96,
   "id": "09905be9",
   "metadata": {},
   "outputs": [
    {
     "data": {
      "text/plain": [
       "(32434489, 4)"
      ]
     },
     "execution_count": 96,
     "metadata": {},
     "output_type": "execute_result"
    }
   ],
   "source": [
    "#checking dimension \n",
    "df_ords_prior.shape"
   ]
  },
  {
   "cell_type": "code",
   "execution_count": 97,
   "id": "6fef3c79",
   "metadata": {},
   "outputs": [],
   "source": [
    "df_merged_large = df_ords.merge(df_ords_prior, on = 'order_id', indicator = True)"
   ]
  },
  {
   "cell_type": "markdown",
   "id": "be9d9f7c",
   "metadata": {},
   "source": [
    "2. Export merged file in pickle format as \"orders_products_combined.pkl"
   ]
  },
  {
   "cell_type": "code",
   "execution_count": 98,
   "id": "d77578d9",
   "metadata": {},
   "outputs": [],
   "source": [
    "df_merged_large.to_pickle(os.path.join(path, '02 Data', 'orders_products_combined.pkl'))"
   ]
  },
  {
   "cell_type": "markdown",
   "id": "180b9744",
   "metadata": {},
   "source": [
    "3. Import orders_products_combined dataframe from pickle file you just saved"
   ]
  },
  {
   "cell_type": "code",
   "execution_count": 99,
   "id": "7aa3a778",
   "metadata": {},
   "outputs": [],
   "source": [
    "df_orders_products_combined = pd.read_pickle(os.path.join(path, '02 Data', 'orders_products_combined.pkl'))"
   ]
  },
  {
   "cell_type": "markdown",
   "id": "de752f8e",
   "metadata": {},
   "source": [
    "4. Checking the shape of imported dataframe"
   ]
  },
  {
   "cell_type": "code",
   "execution_count": 100,
   "id": "77f8a911",
   "metadata": {},
   "outputs": [
    {
     "data": {
      "text/plain": [
       "(32434489, 11)"
      ]
     },
     "execution_count": 100,
     "metadata": {},
     "output_type": "execute_result"
    }
   ],
   "source": [
    "df_orders_products_combined.shape"
   ]
  },
  {
   "cell_type": "markdown",
   "id": "f94bd2ce",
   "metadata": {},
   "source": [
    "5. Determine a suitable way to combine order_products_combined dataframe with your products data set"
   ]
  },
  {
   "cell_type": "code",
   "execution_count": 102,
   "id": "0bdb0756",
   "metadata": {},
   "outputs": [],
   "source": [
    "# Importing 'products_checked.csv'\n",
    "df_prods_checked = pd.read_csv(os.path.join(path, '02 Data', 'products_checked.csv'), index_col = False)"
   ]
  },
  {
   "cell_type": "code",
   "execution_count": 103,
   "id": "fa9d419b",
   "metadata": {},
   "outputs": [],
   "source": [
    "# Dropping '_merge' column from 'orders_products_combined.pkl'\n",
    "df_orders_products_combined = df_orders_products_combined.drop(columns = ['_merge'])"
   ]
  },
  {
   "cell_type": "code",
   "execution_count": 104,
   "id": "b33469d2",
   "metadata": {},
   "outputs": [],
   "source": [
    "# Merging\n",
    "df_orders_products_merged = df_orders_products_combined.merge(df_prods_checked, on = 'product_id', indicator = True)"
   ]
  },
  {
   "cell_type": "markdown",
   "id": "6482cd49",
   "metadata": {},
   "source": [
    "6. Confirm results of merge using merge flag"
   ]
  },
  {
   "cell_type": "code",
   "execution_count": 105,
   "id": "b06f8ebf",
   "metadata": {},
   "outputs": [
    {
     "data": {
      "text/plain": [
       "_merge\n",
       "both          32434212\n",
       "left_only            0\n",
       "right_only           0\n",
       "Name: count, dtype: int64"
      ]
     },
     "execution_count": 105,
     "metadata": {},
     "output_type": "execute_result"
    }
   ],
   "source": [
    "df_orders_products_merged['_merge'].value_counts()"
   ]
  },
  {
   "cell_type": "code",
   "execution_count": 106,
   "id": "aee85b43",
   "metadata": {},
   "outputs": [
    {
     "data": {
      "text/plain": [
       "(32434212, 16)"
      ]
     },
     "execution_count": 106,
     "metadata": {},
     "output_type": "execute_result"
    }
   ],
   "source": [
    "df_orders_products_merged.shape"
   ]
  },
  {
   "cell_type": "markdown",
   "id": "0eac68c7",
   "metadata": {},
   "source": [
    "7. Export the newly created dataframe as orders_products_merged in a suitable format (taking into consideration the size)"
   ]
  },
  {
   "cell_type": "code",
   "execution_count": 107,
   "id": "61374e41",
   "metadata": {},
   "outputs": [],
   "source": [
    "# Import to PKL\n",
    "df_orders_products_merged.to_pickle(os.path.join(path, '02 Data', 'orders_products_merged.pkl'))"
   ]
  },
  {
   "cell_type": "code",
   "execution_count": null,
   "id": "17f5f794",
   "metadata": {},
   "outputs": [],
   "source": []
  }
 ],
 "metadata": {
  "kernelspec": {
   "display_name": "Python 3 (ipykernel)",
   "language": "python",
   "name": "python3"
  },
  "language_info": {
   "codemirror_mode": {
    "name": "ipython",
    "version": 3
   },
   "file_extension": ".py",
   "mimetype": "text/x-python",
   "name": "python",
   "nbconvert_exporter": "python",
   "pygments_lexer": "ipython3",
   "version": "3.11.5"
  }
 },
 "nbformat": 4,
 "nbformat_minor": 5
}
