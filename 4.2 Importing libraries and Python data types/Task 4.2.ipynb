{
 "cells": [
  {
   "cell_type": "code",
   "execution_count": 1,
   "id": "d2c24111",
   "metadata": {},
   "outputs": [],
   "source": [
    "# 01. Importing libraries"
   ]
  },
  {
   "cell_type": "code",
   "execution_count": 2,
   "id": "a4e89735",
   "metadata": {},
   "outputs": [],
   "source": [
    "import pandas as pd\n",
    "import numpy as np\n",
    "import os"
   ]
  },
  {
   "cell_type": "code",
   "execution_count": 3,
   "id": "60707616",
   "metadata": {},
   "outputs": [],
   "source": [
    "# 02. Python data types "
   ]
  },
  {
   "cell_type": "code",
   "execution_count": 4,
   "id": "acf8968a",
   "metadata": {},
   "outputs": [],
   "source": [
    "# Code 3 diffrent ways of reaching a result of 100 by adding or substracting"
   ]
  },
  {
   "cell_type": "code",
   "execution_count": 5,
   "id": "8db1bb87",
   "metadata": {},
   "outputs": [],
   "source": [
    "x = 95"
   ]
  },
  {
   "cell_type": "code",
   "execution_count": 6,
   "id": "6e52ef0c",
   "metadata": {},
   "outputs": [],
   "source": [
    "y = 5"
   ]
  },
  {
   "cell_type": "code",
   "execution_count": 7,
   "id": "64467cc9",
   "metadata": {},
   "outputs": [],
   "source": [
    "z = 105"
   ]
  },
  {
   "cell_type": "code",
   "execution_count": 8,
   "id": "62c3dc73",
   "metadata": {},
   "outputs": [
    {
     "name": "stdout",
     "output_type": "stream",
     "text": [
      "95\n"
     ]
    }
   ],
   "source": [
    "print(x)"
   ]
  },
  {
   "cell_type": "code",
   "execution_count": 9,
   "id": "051bc438",
   "metadata": {},
   "outputs": [
    {
     "data": {
      "text/plain": [
       "100"
      ]
     },
     "execution_count": 9,
     "metadata": {},
     "output_type": "execute_result"
    }
   ],
   "source": [
    "z - y"
   ]
  },
  {
   "cell_type": "code",
   "execution_count": 10,
   "id": "61c0817e",
   "metadata": {},
   "outputs": [
    {
     "data": {
      "text/plain": [
       "100"
      ]
     },
     "execution_count": 10,
     "metadata": {},
     "output_type": "execute_result"
    }
   ],
   "source": [
    "x + y"
   ]
  },
  {
   "cell_type": "code",
   "execution_count": 13,
   "id": "63f85ba4",
   "metadata": {},
   "outputs": [],
   "source": [
    "# Code 2 floating-point variables and divide them by each other"
   ]
  },
  {
   "cell_type": "code",
   "execution_count": 14,
   "id": "5e8df1cf",
   "metadata": {},
   "outputs": [],
   "source": [
    "x = 10.10"
   ]
  },
  {
   "cell_type": "code",
   "execution_count": 15,
   "id": "a0b6eb79",
   "metadata": {},
   "outputs": [],
   "source": [
    "y = 3.1416"
   ]
  },
  {
   "cell_type": "code",
   "execution_count": 16,
   "id": "943b3472",
   "metadata": {},
   "outputs": [
    {
     "data": {
      "text/plain": [
       "float"
      ]
     },
     "execution_count": 16,
     "metadata": {},
     "output_type": "execute_result"
    }
   ],
   "source": [
    "type(y)"
   ]
  },
  {
   "cell_type": "code",
   "execution_count": 17,
   "id": "ece70f0e",
   "metadata": {},
   "outputs": [
    {
     "data": {
      "text/plain": [
       "3.214922332569391"
      ]
     },
     "execution_count": 17,
     "metadata": {},
     "output_type": "execute_result"
    }
   ],
   "source": [
    "x / y"
   ]
  },
  {
   "cell_type": "code",
   "execution_count": 18,
   "id": "8cbb0f34",
   "metadata": {},
   "outputs": [],
   "source": [
    "# Construct 2 short sentences made of separate strings"
   ]
  },
  {
   "cell_type": "code",
   "execution_count": 19,
   "id": "fe4a4b83",
   "metadata": {},
   "outputs": [],
   "source": [
    "a = 'Hello! '"
   ]
  },
  {
   "cell_type": "code",
   "execution_count": 20,
   "id": "0af187d6",
   "metadata": {},
   "outputs": [],
   "source": [
    "b = 'How are you?'"
   ]
  },
  {
   "cell_type": "code",
   "execution_count": 21,
   "id": "0a2d86f3",
   "metadata": {},
   "outputs": [
    {
     "data": {
      "text/plain": [
       "'Hello! How are you?'"
      ]
     },
     "execution_count": 21,
     "metadata": {},
     "output_type": "execute_result"
    }
   ],
   "source": [
    "a + b"
   ]
  },
  {
   "cell_type": "code",
   "execution_count": 22,
   "id": "042fa00e",
   "metadata": {},
   "outputs": [],
   "source": [
    "# Construct a short word made of separate strings"
   ]
  },
  {
   "cell_type": "code",
   "execution_count": 24,
   "id": "9e2e0516",
   "metadata": {},
   "outputs": [],
   "source": [
    "c = 'Data'"
   ]
  },
  {
   "cell_type": "code",
   "execution_count": 25,
   "id": "4038fbe6",
   "metadata": {},
   "outputs": [],
   "source": [
    "d = 'base'"
   ]
  },
  {
   "cell_type": "code",
   "execution_count": 26,
   "id": "6517f3ad",
   "metadata": {},
   "outputs": [
    {
     "data": {
      "text/plain": [
       "'Database'"
      ]
     },
     "execution_count": 26,
     "metadata": {},
     "output_type": "execute_result"
    }
   ],
   "source": [
    "c + d"
   ]
  },
  {
   "cell_type": "code",
   "execution_count": null,
   "id": "cbdc7a6b",
   "metadata": {},
   "outputs": [],
   "source": []
  }
 ],
 "metadata": {
  "kernelspec": {
   "display_name": "Python 3 (ipykernel)",
   "language": "python",
   "name": "python3"
  },
  "language_info": {
   "codemirror_mode": {
    "name": "ipython",
    "version": 3
   },
   "file_extension": ".py",
   "mimetype": "text/x-python",
   "name": "python",
   "nbconvert_exporter": "python",
   "pygments_lexer": "ipython3",
   "version": "3.11.5"
  }
 },
 "nbformat": 4,
 "nbformat_minor": 5
}
